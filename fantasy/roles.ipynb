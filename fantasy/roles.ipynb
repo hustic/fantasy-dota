{
 "cells": [
  {
   "cell_type": "code",
   "execution_count": 121,
   "source": [
    "from bs4 import BeautifulSoup\n",
    "import requests\n",
    "import pandas as pd"
   ],
   "outputs": [],
   "metadata": {}
  },
  {
   "cell_type": "code",
   "execution_count": 122,
   "source": [
    "url =' https://liquipedia.net/dota2/The_International/2021'\n",
    "page = requests.get(url)\n",
    "soup = BeautifulSoup(page.text, 'html.parser')"
   ],
   "outputs": [],
   "metadata": {}
  },
  {
   "cell_type": "code",
   "execution_count": 123,
   "source": [
    "teams = soup.find_all('div', class_ = 'teamcard toggle-area toggle-area-1')"
   ],
   "outputs": [],
   "metadata": {}
  },
  {
   "cell_type": "code",
   "execution_count": 124,
   "source": [
    "team_urls = [team.find_next('a').get_attribute_list('href')[0] for team in teams]"
   ],
   "outputs": [],
   "metadata": {}
  },
  {
   "cell_type": "code",
   "execution_count": 125,
   "source": [
    "print(team_urls)"
   ],
   "outputs": [
    {
     "output_type": "stream",
     "name": "stdout",
     "text": [
      "['/dota2/Evil_Geniuses', '/dota2/PSG.LGD', '/dota2/Virtus.pro', '/dota2/Quincy_Crew', '/dota2/Invictus_Gaming', '/dota2/T1', '/dota2/Vici_Gaming', '/dota2/Team_Secret', '/dota2/Team_Aster', '/dota2/Alliance', '/dota2/Beastcoast', '/dota2/Thunder_Predator', '/dota2/Team_Undying', '/dota2/SG_esports', '/dota2/OG', '/dota2/Team_Spirit', '/dota2/Elephant', '/dota2/Fnatic']\n"
     ]
    }
   ],
   "metadata": {}
  },
  {
   "cell_type": "code",
   "execution_count": 126,
   "source": [
    "base_url = 'https://liquipedia.net'"
   ],
   "outputs": [],
   "metadata": {}
  },
  {
   "cell_type": "code",
   "execution_count": 127,
   "source": [
    "extention = team_urls[1]\n"
   ],
   "outputs": [],
   "metadata": {}
  },
  {
   "cell_type": "code",
   "execution_count": 134,
   "source": [
    "player_info = []\n",
    "for team_url in team_urls:   \n",
    "    page = requests.get(base_url+team_url)\n",
    "    soup = BeautifulSoup(page.text, 'html.parser')\n",
    "    roster_table = soup.find('table', class_ = 'wikitable wikitable-striped roster-card')\n",
    "    player_names = roster_table.find_all('span', {\"id\": \"player\"})\n",
    "    roles = roster_table.find_all('td', {\"class\": \"PositionWoTeam2\"})\n",
    "    if not roles:\n",
    "        roles = roster_table.find_all('td', {\"class\": \"Position\"})\n",
    "    player_tags = [player.find('a').get_attribute_list('title')[0] for player in player_names]\n",
    "    player_roles = [role.text[-1] for role in roles]\n",
    "    player_dict = dict(zip(player_tags, player_roles))\n",
    "    player_info.append(player_dict)\n"
   ],
   "outputs": [],
   "metadata": {}
  },
  {
   "cell_type": "code",
   "execution_count": 135,
   "source": [
    "player_info"
   ],
   "outputs": [
    {
     "output_type": "execute_result",
     "data": {
      "text/plain": [
       "[{'Arteezy': '1', 'Abed': '2', 'Iceiceice': '3', 'Cr1t-': '4', 'Fly': '5'},\n",
       " {'Ame': '1', 'NothingToSay': '2', 'Faith bian': '3', 'XinQ': '4', 'Y`': '5'},\n",
       " {'Nightfall': '1', 'Gpk': '2', 'DM': '3', 'Save-': '4', 'Kingslayer': '5'},\n",
       " {'YawaR': '1', 'CCnC': '2', 'Lelis': '3', 'MSS': '4', 'SVG': '5'},\n",
       " {'Flyfly': '1', 'Emo': '2', 'JT-': '3', 'Kaka': '4', 'Oli': '5'},\n",
       " {'23savage': '1', 'Karl': '2', 'Kuku': '3', 'Xepher': '4', 'Whitemon': '5'},\n",
       " {'Poyoyo': '1', 'Ori': '2', 'Old eLeVeN': '3', 'Pyw': '4', 'Dy': '5'},\n",
       " {'MATUMBAMAN': '1', 'Nisha': '2', 'Zai': '3', 'YapzOr': '4', 'Puppey': '5'},\n",
       " {'Monet': '1', 'DD斩首': '2', 'Xxs': '3', 'Borax': '4', 'LaNm': ')'},\n",
       " {'Nikobaby': '1', 'Limmp': '2', 'S4': '3', 'Handsken': '4', 'Fng': '5'},\n",
       " {'K1': '1',\n",
       "  'Chris Luck': '2',\n",
       "  'Wisper': '3',\n",
       "  'Scofield': '4',\n",
       "  'Stinger': '5'},\n",
       " {'Mnz': '1', 'Leostyle-': '2', 'Frank': '3', 'MoOz': '4', 'Mjz': '5'},\n",
       " {'Timado': '1',\n",
       "  'Bryle': '2',\n",
       "  'SabeRLight-': '3',\n",
       "  'MoonMeander': '4',\n",
       "  'DuBu': '5'},\n",
       " {'Costabile': '1', '4dr': '2', 'Tavo': '3', 'Thiolicor': '4', 'KJ': '5'},\n",
       " {'SumaiL': '1', 'Topson': '2', 'Ceb': '3', 'Saksa': '4', 'N0tail': '5'},\n",
       " {'Yatoro': '1',\n",
       "  'TORONTOTOKYO': '2',\n",
       "  'Collapse (Russian player)': '3',\n",
       "  'Miroslaw': '4',\n",
       "  'Miposhka': '5'},\n",
       " {'Eurus': '1', 'Somnus丶M': '2', 'Yang': '3', 'Fy': '4', 'Super': '5'},\n",
       " {'Raven': '1', 'ChYuan': '2', 'Deth': '3', 'Jabz': '4', 'DJ': '5'}]"
      ]
     },
     "metadata": {},
     "execution_count": 135
    }
   ],
   "metadata": {}
  },
  {
   "cell_type": "code",
   "execution_count": 136,
   "source": [
    "player_list = []\n",
    "for team in player_info:\n",
    "    for key,value in team.items():\n",
    "        if value == '5' or value == ')':\n",
    "            value = '4'\n",
    "        team[key] = int(value)\n",
    "        new_dict = {'name': key, 'role': value}\n",
    "        player_list.append(new_dict)\n"
   ],
   "outputs": [
    {
     "output_type": "stream",
     "name": "stdout",
     "text": [
      ")\n"
     ]
    }
   ],
   "metadata": {}
  },
  {
   "cell_type": "code",
   "execution_count": 120,
   "source": [
    "player_list"
   ],
   "outputs": [
    {
     "output_type": "execute_result",
     "data": {
      "text/plain": [
       "[{'name': 'Arteezy', 'role': 1},\n",
       " {'name': 'Abed', 'role': 2},\n",
       " {'name': 'Iceiceice', 'role': 3},\n",
       " {'name': 'Cr1t-', 'role': 4},\n",
       " {'name': 'Fly', 'role': 4},\n",
       " {'name': 'Ame', 'role': 1},\n",
       " {'name': 'NothingToSay', 'role': 2},\n",
       " {'name': 'Faith bian', 'role': 3},\n",
       " {'name': 'XinQ', 'role': 4},\n",
       " {'name': 'Y`', 'role': 4},\n",
       " {'name': 'Nightfall', 'role': 1},\n",
       " {'name': 'Gpk', 'role': 2},\n",
       " {'name': 'DM', 'role': 3},\n",
       " {'name': 'Save-', 'role': 4},\n",
       " {'name': 'Kingslayer', 'role': 4},\n",
       " {'name': 'YawaR', 'role': 1},\n",
       " {'name': 'CCnC', 'role': 2},\n",
       " {'name': 'Lelis', 'role': 3},\n",
       " {'name': 'MSS', 'role': 4},\n",
       " {'name': 'SVG', 'role': 4},\n",
       " {'name': 'Flyfly', 'role': 1},\n",
       " {'name': 'Emo', 'role': 2},\n",
       " {'name': 'JT-', 'role': 3},\n",
       " {'name': 'Kaka', 'role': 4},\n",
       " {'name': 'Oli', 'role': 4},\n",
       " {'name': '23savage', 'role': 1},\n",
       " {'name': 'Karl', 'role': 2},\n",
       " {'name': 'Kuku', 'role': 3},\n",
       " {'name': 'Xepher', 'role': 4},\n",
       " {'name': 'Whitemon', 'role': 4},\n",
       " {'name': 'Poyoyo', 'role': 1},\n",
       " {'name': 'Ori', 'role': 2},\n",
       " {'name': 'Old eLeVeN', 'role': 3},\n",
       " {'name': 'Pyw', 'role': 4},\n",
       " {'name': 'Dy', 'role': 4},\n",
       " {'name': 'MATUMBAMAN', 'role': 1},\n",
       " {'name': 'Nisha', 'role': 2},\n",
       " {'name': 'Zai', 'role': 3},\n",
       " {'name': 'YapzOr', 'role': 4},\n",
       " {'name': 'Puppey', 'role': 4},\n",
       " {'name': 'Monet', 'role': 1},\n",
       " {'name': 'DD斩首', 'role': 2},\n",
       " {'name': 'Xxs', 'role': 3},\n",
       " {'name': 'Borax', 'role': 4},\n",
       " {'name': 'LaNm', 'role': 4},\n",
       " {'name': 'Nikobaby', 'role': 1},\n",
       " {'name': 'Limmp', 'role': 2},\n",
       " {'name': 'S4', 'role': 3},\n",
       " {'name': 'Handsken', 'role': 4},\n",
       " {'name': 'Fng', 'role': 4},\n",
       " {'name': 'K1', 'role': 1},\n",
       " {'name': 'Chris Luck', 'role': 2},\n",
       " {'name': 'Wisper', 'role': 3},\n",
       " {'name': 'Scofield', 'role': 4},\n",
       " {'name': 'Stinger', 'role': 4},\n",
       " {'name': 'Mnz', 'role': 1},\n",
       " {'name': 'Leostyle-', 'role': 2},\n",
       " {'name': 'Frank', 'role': 3},\n",
       " {'name': 'MoOz', 'role': 4},\n",
       " {'name': 'Mjz', 'role': 4},\n",
       " {'name': 'Timado', 'role': 1},\n",
       " {'name': 'Bryle', 'role': 2},\n",
       " {'name': 'SabeRLight-', 'role': 3},\n",
       " {'name': 'MoonMeander', 'role': 4},\n",
       " {'name': 'DuBu', 'role': 4},\n",
       " {'name': 'Costabile', 'role': 1},\n",
       " {'name': '4dr', 'role': 2},\n",
       " {'name': 'Tavo', 'role': 3},\n",
       " {'name': 'Thiolicor', 'role': 4},\n",
       " {'name': 'KJ', 'role': 4},\n",
       " {'name': 'SumaiL', 'role': 1},\n",
       " {'name': 'Topson', 'role': 2},\n",
       " {'name': 'Ceb', 'role': 3},\n",
       " {'name': 'Saksa', 'role': 4},\n",
       " {'name': 'N0tail', 'role': 4},\n",
       " {'name': 'Yatoro', 'role': 1},\n",
       " {'name': 'TORONTOTOKYO', 'role': 2},\n",
       " {'name': 'Collapse (Russian player)', 'role': 3},\n",
       " {'name': 'Miroslaw', 'role': 4},\n",
       " {'name': 'Miposhka', 'role': 4},\n",
       " {'name': 'Eurus', 'role': 1},\n",
       " {'name': 'Somnus丶M', 'role': 2},\n",
       " {'name': 'Yang', 'role': 3},\n",
       " {'name': 'Fy', 'role': 4},\n",
       " {'name': 'Super', 'role': 4},\n",
       " {'name': 'Raven', 'role': 1},\n",
       " {'name': 'ChYuan', 'role': 2},\n",
       " {'name': 'Deth', 'role': 3},\n",
       " {'name': 'Jabz', 'role': 4},\n",
       " {'name': 'DJ', 'role': 4}]"
      ]
     },
     "metadata": {},
     "execution_count": 120
    }
   ],
   "metadata": {}
  },
  {
   "cell_type": "code",
   "execution_count": 116,
   "source": [
    "player_infoa"
   ],
   "outputs": [
    {
     "output_type": "execute_result",
     "data": {
      "text/plain": [
       "[{'Arteezy': 1, 'Abed': 2, 'Iceiceice': 3, 'Cr1t-': 4, 'Fly': 4},\n",
       " {'Ame': 1, 'NothingToSay': 2, 'Faith bian': 3, 'XinQ': 4, 'Y`': 4},\n",
       " {'Nightfall': 1, 'Gpk': 2, 'DM': 3, 'Save-': 4, 'Kingslayer': 4},\n",
       " {'YawaR': 1, 'CCnC': 2, 'Lelis': 3, 'MSS': 4, 'SVG': 4},\n",
       " {'Flyfly': 1, 'Emo': 2, 'JT-': 3, 'Kaka': 4, 'Oli': 4},\n",
       " {'23savage': 1, 'Karl': 2, 'Kuku': 3, 'Xepher': 4, 'Whitemon': 4},\n",
       " {'Poyoyo': 1, 'Ori': 2, 'Old eLeVeN': 3, 'Pyw': 4, 'Dy': 4},\n",
       " {'MATUMBAMAN': 1, 'Nisha': 2, 'Zai': 3, 'YapzOr': 4, 'Puppey': 4},\n",
       " {'Monet': 1, 'DD斩首': 2, 'Xxs': 3, 'Borax': 4, 'LaNm': 4},\n",
       " {'Nikobaby': 1, 'Limmp': 2, 'S4': 3, 'Handsken': 4, 'Fng': 4},\n",
       " {'K1': 1, 'Chris Luck': 2, 'Wisper': 3, 'Scofield': 4, 'Stinger': 4},\n",
       " {'Mnz': 1, 'Leostyle-': 2, 'Frank': 3, 'MoOz': 4, 'Mjz': 4},\n",
       " {'Timado': 1, 'Bryle': 2, 'SabeRLight-': 3, 'MoonMeander': 4, 'DuBu': 4},\n",
       " {'Costabile': 1, '4dr': 2, 'Tavo': 3, 'Thiolicor': 4, 'KJ': 4},\n",
       " {'SumaiL': 1, 'Topson': 2, 'Ceb': 3, 'Saksa': 4, 'N0tail': 4},\n",
       " {'Yatoro': 1,\n",
       "  'TORONTOTOKYO': 2,\n",
       "  'Collapse (Russian player)': 3,\n",
       "  'Miroslaw': 4,\n",
       "  'Miposhka': 4},\n",
       " {'Eurus': 1, 'Somnus丶M': 2, 'Yang': 3, 'Fy': 4, 'Super': 4},\n",
       " {'Raven': 1, 'ChYuan': 2, 'Deth': 3, 'Jabz': 4, 'DJ': 4}]"
      ]
     },
     "metadata": {},
     "execution_count": 116
    }
   ],
   "metadata": {}
  },
  {
   "cell_type": "code",
   "execution_count": null,
   "source": [],
   "outputs": [],
   "metadata": {}
  }
 ],
 "metadata": {
  "orig_nbformat": 4,
  "language_info": {
   "name": "python",
   "version": "3.8.10",
   "mimetype": "text/x-python",
   "codemirror_mode": {
    "name": "ipython",
    "version": 3
   },
   "pygments_lexer": "ipython3",
   "nbconvert_exporter": "python",
   "file_extension": ".py"
  },
  "kernelspec": {
   "name": "python3",
   "display_name": "Python 3.8.10 64-bit ('venv': venv)"
  },
  "interpreter": {
   "hash": "85a7ff3f8e44b95e3eb29d12de772229117cd087db773b4b2d386d7f1aee79e1"
  }
 },
 "nbformat": 4,
 "nbformat_minor": 2
}