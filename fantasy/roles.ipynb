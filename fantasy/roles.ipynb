{
 "cells": [
  {
   "cell_type": "code",
   "execution_count": 1,
   "source": [
    "from bs4 import BeautifulSoup\n",
    "import requests\n",
    "import pandas as pd"
   ],
   "outputs": [],
   "metadata": {}
  },
  {
   "cell_type": "code",
   "execution_count": 28,
   "source": [
    "url =' https://liquipedia.net/dota2/The_International/2021'\n",
    "page = requests.get(url)\n",
    "soup = BeautifulSoup(page.text, 'html.parser')"
   ],
   "outputs": [],
   "metadata": {}
  },
  {
   "cell_type": "code",
   "execution_count": 39,
   "source": [
    "teams = soup.find_all('div', class_ = 'teamcard toggle-area toggle-area-1')"
   ],
   "outputs": [],
   "metadata": {}
  },
  {
   "cell_type": "code",
   "execution_count": 80,
   "source": [
    "team_urls = [team.find_next('a').get_attribute_list('href')[0] for team in teams]"
   ],
   "outputs": [],
   "metadata": {}
  },
  {
   "cell_type": "code",
   "execution_count": 81,
   "source": [
    "print(team_urls)"
   ],
   "outputs": [
    {
     "output_type": "stream",
     "name": "stdout",
     "text": [
      "['/dota2/Evil_Geniuses', '/dota2/PSG.LGD', '/dota2/Virtus.pro', '/dota2/Quincy_Crew', '/dota2/Invictus_Gaming', '/dota2/T1', '/dota2/Vici_Gaming', '/dota2/Team_Secret', '/dota2/Team_Aster', '/dota2/Alliance', '/dota2/Beastcoast', '/dota2/Thunder_Predator', '/dota2/Team_Undying', '/dota2/SG_esports', '/dota2/OG', '/dota2/Team_Spirit', '/dota2/Elephant', '/dota2/Fnatic']\n"
     ]
    }
   ],
   "metadata": {}
  },
  {
   "cell_type": "code",
   "execution_count": 46,
   "source": [
    "base_url = 'https://liquipedia.net'"
   ],
   "outputs": [],
   "metadata": {}
  },
  {
   "cell_type": "code",
   "execution_count": 88,
   "source": [
    "extention = team_urls[1]\n"
   ],
   "outputs": [],
   "metadata": {}
  },
  {
   "cell_type": "code",
   "execution_count": 86,
   "source": [
    "player_info = []\n",
    "for team_url in team_urls:   \n",
    "    page = requests.get(base_url+team_url)\n",
    "    soup = BeautifulSoup(page.text, 'html.parser')\n",
    "    roster_table = soup.find('table', class_ = 'wikitable wikitable-striped roster-card')\n",
    "    player_names = roster_table.find_all('span', {\"id\": \"player\"})\n",
    "    roles = roster_table.find_all('td', {\"class\": \"PositionWoTeam2\"})\n",
    "    player_tags = [player.find('a').get_attribute_list('title')[0] for player in player_names]\n",
    "    player_roles = [role.text for role in roles]\n",
    "    player_dict = dict(zip(player_tags, player_roles))\n",
    "    player_info.append(player_dict)\n"
   ],
   "outputs": [],
   "metadata": {}
  },
  {
   "cell_type": "code",
   "execution_count": 97,
   "source": [
    "page = requests.get(base_url+extention)\n",
    "soup = BeautifulSoup(page.text, 'html.parser')\n",
    "roster_table = soup.find('table', class_ = 'wikitable wikitable-striped roster-card')\n",
    "player_names = roster_table.find_all('span', {\"id\": \"player\"})\n",
    "roles = roster_table.find_all('td', {\"class\": \"PositionWoTeam2\"})\n",
    "if not roles:\n",
    "    roles = roster_table.find_all('td', {\"class\": \"Position\"})\n",
    "player_tags = [player.find('a').get_attribute_list('title')[0] for player in player_names]\n",
    "player_roles = [role.text[-1] for role in roles]"
   ],
   "outputs": [],
   "metadata": {}
  },
  {
   "cell_type": "code",
   "execution_count": 95,
   "source": [
    "player_tags"
   ],
   "outputs": [
    {
     "output_type": "execute_result",
     "data": {
      "text/plain": [
       "['Ame', 'NothingToSay', 'Faith bian', 'XinQ', 'Y`']"
      ]
     },
     "metadata": {},
     "execution_count": 95
    }
   ],
   "metadata": {}
  },
  {
   "cell_type": "code",
   "execution_count": 98,
   "source": [
    "player_roles"
   ],
   "outputs": [
    {
     "output_type": "execute_result",
     "data": {
      "text/plain": [
       "['Position:\\xa01',\n",
       " 'Position:\\xa02',\n",
       " 'Position:\\xa03',\n",
       " 'Position:\\xa04',\n",
       " 'Position:\\xa05']"
      ]
     },
     "metadata": {},
     "execution_count": 98
    }
   ],
   "metadata": {}
  },
  {
   "cell_type": "code",
   "execution_count": null,
   "source": [],
   "outputs": [],
   "metadata": {}
  }
 ],
 "metadata": {
  "orig_nbformat": 4,
  "language_info": {
   "name": "python",
   "version": "3.8.10",
   "mimetype": "text/x-python",
   "codemirror_mode": {
    "name": "ipython",
    "version": 3
   },
   "pygments_lexer": "ipython3",
   "nbconvert_exporter": "python",
   "file_extension": ".py"
  },
  "kernelspec": {
   "name": "python3",
   "display_name": "Python 3.8.10 64-bit ('venv': venv)"
  },
  "interpreter": {
   "hash": "85a7ff3f8e44b95e3eb29d12de772229117cd087db773b4b2d386d7f1aee79e1"
  }
 },
 "nbformat": 4,
 "nbformat_minor": 2
}